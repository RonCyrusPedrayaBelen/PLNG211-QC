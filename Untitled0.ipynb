{
  "nbformat": 4,
  "nbformat_minor": 0,
  "metadata": {
    "colab": {
      "provenance": [],
      "authorship_tag": "ABX9TyMIOD8B4PxmDYp6XgEGszYS",
      "include_colab_link": true
    },
    "kernelspec": {
      "name": "python3",
      "display_name": "Python 3"
    },
    "language_info": {
      "name": "python"
    }
  },
  "cells": [
    {
      "cell_type": "markdown",
      "metadata": {
        "id": "view-in-github",
        "colab_type": "text"
      },
      "source": [
        "<a href=\"https://colab.research.google.com/github/RonCyrusPedrayaBelen/PLNG211-QC/blob/main/Untitled0.ipynb\" target=\"_parent\"><img src=\"https://colab.research.google.com/assets/colab-badge.svg\" alt=\"Open In Colab\"/></a>"
      ]
    },
    {
      "cell_type": "code",
      "execution_count": 1,
      "metadata": {
        "id": "woydJQICwZrU"
      },
      "outputs": [],
      "source": [
        "#If Statement\n",
        "a = 100\n",
        "b = 100\n",
        "if a < b:\n",
        "  print(\"a is less than b\")"
      ]
    },
    {
      "cell_type": "code",
      "source": [
        "#Elif Statement\n",
        "if a<b:\n",
        "  print('a is less than b')\n",
        "elif a>b:\n",
        "  print(\"a is greater than b\")"
      ],
      "metadata": {
        "id": "pyaeiJ7lwn8m"
      },
      "execution_count": 12,
      "outputs": []
    },
    {
      "cell_type": "markdown",
      "source": [
        "a is greater than b"
      ],
      "metadata": {
        "id": "pRYfYWnFyZ-F"
      }
    },
    {
      "cell_type": "code",
      "source": [
        "if a<b:\n",
        "  print('a is less than b')\n",
        "elif a>b:\n",
        "  print(\"a is greaten than b\")\n",
        "else:\n",
        "  print('a is equal to b')"
      ],
      "metadata": {
        "colab": {
          "base_uri": "https://localhost:8080/"
        },
        "id": "Ml_toOvewsW-",
        "outputId": "4ff169cc-cffb-49ff-bdb1-9582d008677d"
      },
      "execution_count": 9,
      "outputs": [
        {
          "output_type": "stream",
          "name": "stdout",
          "text": [
            "a is equal to b\n"
          ]
        }
      ]
    },
    {
      "cell_type": "code",
      "source": [
        "#Short Hand If Statement\n",
        "c = 5\n",
        "d = 10\n",
        "if c>d: print(\"c>d\")"
      ],
      "metadata": {
        "id": "sy1JtYw9w_B1"
      },
      "execution_count": 13,
      "outputs": []
    },
    {
      "cell_type": "code",
      "source": [
        "#Short Hand If Else Statement\n",
        "print('c<d') if c>d else print('d>c')"
      ],
      "metadata": {
        "colab": {
          "base_uri": "https://localhost:8080/"
        },
        "id": "aQzKSM5JxpkV",
        "outputId": "155ca7a7-b55a-47c8-9f01-34f6d548b7c2"
      },
      "execution_count": 14,
      "outputs": [
        {
          "output_type": "stream",
          "name": "stdout",
          "text": [
            "d>c\n"
          ]
        }
      ]
    },
    {
      "cell_type": "code",
      "source": [
        "#And Statement\n",
        "\n",
        "if 5>10 and 8>4:\n",
        "  print(\"both statements are true\")\n",
        "else:\n",
        "  print(\"One of the operands statement is false / both statements are not true\")"
      ],
      "metadata": {
        "colab": {
          "base_uri": "https://localhost:8080/"
        },
        "id": "2Tj06Hk6xu2V",
        "outputId": "5019759e-9cba-4d52-eac9-37bd03074c4c"
      },
      "execution_count": 3,
      "outputs": [
        {
          "output_type": "stream",
          "name": "stdout",
          "text": [
            "One of the operands statement is false / both statements are not true\n"
          ]
        }
      ]
    },
    {
      "cell_type": "code",
      "source": [
        "#Or Statement\n",
        "if 5>10 or 8>4:\n",
        "  print('True')\n",
        "else:\n",
        "  print('False')"
      ],
      "metadata": {
        "colab": {
          "base_uri": "https://localhost:8080/"
        },
        "id": "GwnL1mokyl1t",
        "outputId": "cd28a16a-26b5-4d38-a744-35b50304a787"
      },
      "execution_count": 17,
      "outputs": [
        {
          "output_type": "stream",
          "name": "stdout",
          "text": [
            "True\n"
          ]
        }
      ]
    },
    {
      "cell_type": "code",
      "source": [
        "#Bitwise operator ^ (xor)\n",
        "e = 4     #0100 in binary\n",
        "f = 2\n",
        "e^f"
      ],
      "metadata": {
        "colab": {
          "base_uri": "https://localhost:8080/"
        },
        "id": "MlaujLP_ypTM",
        "outputId": "4d1698a1-9c35-4fd1-b213-f96ede5c8e17"
      },
      "execution_count": 18,
      "outputs": [
        {
          "output_type": "execute_result",
          "data": {
            "text/plain": [
              "6"
            ]
          },
          "metadata": {},
          "execution_count": 18
        }
      ]
    },
    {
      "cell_type": "code",
      "source": [
        "#Nested If\n",
        "x = 39\n",
        "if x > 10:\n",
        "  print(\"number is above ten\")\n",
        "  if x > 20:\n",
        "    print(\"number is above 20\")\n",
        "    if x >30:\n",
        "      print(\"number is above 30\")\n",
        "      if x>40:\n",
        "        print(\"number is above 40\")\n",
        "        if x>50:\n",
        "          print(\"the number is above 50\")\n",
        "        else:\n",
        "          print(\"the number is less than 50\")\n",
        "      else:\n",
        "        print(\"number is less than 40\")"
      ],
      "metadata": {
        "colab": {
          "base_uri": "https://localhost:8080/"
        },
        "id": "jTY2c9CQyzt0",
        "outputId": "687ca903-65d5-4115-8a3e-f1b6c1ae4d31"
      },
      "execution_count": 19,
      "outputs": [
        {
          "output_type": "stream",
          "name": "stdout",
          "text": [
            "number is above ten\n",
            "number is above 20\n",
            "number is above 30\n",
            "number is less than 40\n"
          ]
        }
      ]
    },
    {
      "cell_type": "code",
      "source": [
        "#For loop Statement\n",
        "week = [\"Sunday\", \"Monday\", \"Tuesday\", \"Wednesday\", \"Thursday\", \"Friday\", \"Saturday\"]\n",
        "for y in week:\n",
        "  print(y)\n",
        "  if y == \"Thursday\":\n",
        "    break"
      ],
      "metadata": {
        "colab": {
          "base_uri": "https://localhost:8080/"
        },
        "id": "GhcmwxqDzmM8",
        "outputId": "db484440-432a-4ad1-9269-f7ce2739b9f4"
      },
      "execution_count": 20,
      "outputs": [
        {
          "output_type": "stream",
          "name": "stdout",
          "text": [
            "Sunday\n",
            "Monday\n",
            "Tuesday\n",
            "Wednesday\n",
            "Thursday\n"
          ]
        }
      ]
    },
    {
      "cell_type": "code",
      "source": [
        "week = [\"Sunday\", \"Monday\", \"Tuesday\", \"Wednesday\", \"Thursday\", \"Friday\", \"Saturday\"]\n",
        "for y in week:\n",
        "  if y == \"Thursday\":\n",
        "    break\n",
        "  print(y)"
      ],
      "metadata": {
        "colab": {
          "base_uri": "https://localhost:8080/"
        },
        "id": "U0r9t64iznwk",
        "outputId": "21a17bcf-6612-40a9-846e-d88da698e6a6"
      },
      "execution_count": 21,
      "outputs": [
        {
          "output_type": "stream",
          "name": "stdout",
          "text": [
            "Sunday\n",
            "Monday\n",
            "Tuesday\n",
            "Wednesday\n"
          ]
        }
      ]
    },
    {
      "cell_type": "code",
      "source": [
        "for y in \"week\":\n",
        "  print(y)"
      ],
      "metadata": {
        "colab": {
          "base_uri": "https://localhost:8080/"
        },
        "id": "vzBRk0Fczqh8",
        "outputId": "ba9b6a95-59ba-4b71-babb-9cb91e2b3f50"
      },
      "execution_count": 22,
      "outputs": [
        {
          "output_type": "stream",
          "name": "stdout",
          "text": [
            "w\n",
            "e\n",
            "e\n",
            "k\n"
          ]
        }
      ]
    },
    {
      "cell_type": "code",
      "source": [
        "#Range Function\n",
        "for x in range(6):\n",
        "  print(x)"
      ],
      "metadata": {
        "colab": {
          "base_uri": "https://localhost:8080/"
        },
        "id": "jnipT10rzsak",
        "outputId": "95b9f420-716c-4735-d4f1-12a50a3cab84"
      },
      "execution_count": 23,
      "outputs": [
        {
          "output_type": "stream",
          "name": "stdout",
          "text": [
            "0\n",
            "1\n",
            "2\n",
            "3\n",
            "4\n",
            "5\n"
          ]
        }
      ]
    },
    {
      "cell_type": "code",
      "source": [
        "for x in range(2,6+1,1):\n",
        "  print(x)"
      ],
      "metadata": {
        "colab": {
          "base_uri": "https://localhost:8080/"
        },
        "id": "TpwfpRQvzvMc",
        "outputId": "59515f9f-8ff7-44d9-d5eb-1cb01f735868"
      },
      "execution_count": 24,
      "outputs": [
        {
          "output_type": "stream",
          "name": "stdout",
          "text": [
            "2\n",
            "3\n",
            "4\n",
            "5\n",
            "6\n"
          ]
        }
      ]
    },
    {
      "cell_type": "code",
      "source": [
        "adjective = [\"red\", \"big\", \"tasty\"]\n",
        "fruit = [\"apple\", \"banana\",\"cherry\"]\n",
        "for x in adjective:\n",
        "  for y in fruit:\n",
        "    print(x,y)"
      ],
      "metadata": {
        "colab": {
          "base_uri": "https://localhost:8080/"
        },
        "id": "jfxIZ0NVz11s",
        "outputId": "022f9546-4346-4302-80e5-54497d1d43ba"
      },
      "execution_count": 25,
      "outputs": [
        {
          "output_type": "stream",
          "name": "stdout",
          "text": [
            "red apple\n",
            "red banana\n",
            "red cherry\n",
            "big apple\n",
            "big banana\n",
            "big cherry\n",
            "tasty apple\n",
            "tasty banana\n",
            "tasty cherry\n"
          ]
        }
      ]
    },
    {
      "cell_type": "code",
      "source": [
        "i = 1\n",
        "while i <= 6:\n",
        "  print(i)\n",
        "  i += 1 #i = 1+1"
      ],
      "metadata": {
        "colab": {
          "base_uri": "https://localhost:8080/"
        },
        "id": "Lj56vWuW0Kdb",
        "outputId": "8f9ed713-30d5-4cd1-a9cc-23562c46e557"
      },
      "execution_count": 26,
      "outputs": [
        {
          "output_type": "stream",
          "name": "stdout",
          "text": [
            "1\n",
            "2\n",
            "3\n",
            "4\n",
            "5\n",
            "6\n"
          ]
        }
      ]
    },
    {
      "cell_type": "code",
      "source": [
        "i = 1\n",
        "while i <= 6:\n",
        "  print(i)\n",
        "  if i == 3:\n",
        "    break\n",
        "  i += 1 #i = 1+1"
      ],
      "metadata": {
        "colab": {
          "base_uri": "https://localhost:8080/"
        },
        "id": "0aPxLT7H0MmN",
        "outputId": "fe2bd4bd-aedb-4d28-d301-d2b6f0ebfa1f"
      },
      "execution_count": 27,
      "outputs": [
        {
          "output_type": "stream",
          "name": "stdout",
          "text": [
            "1\n",
            "2\n",
            "3\n"
          ]
        }
      ]
    },
    {
      "cell_type": "markdown",
      "source": [
        "ACTIVITY\n"
      ],
      "metadata": {
        "id": "Zd2h8jsq0QON"
      }
    },
    {
      "cell_type": "code",
      "source": [
        "#Write a program that determines if the input age is qualified to vote or not.\n",
        "#The qualifying age is 18 years old and above\n",
        "x = 18\n",
        "age = input(\"Enter your age: \")\n",
        "if int(age)>=x:\n",
        "  print(\"You can vote now\")\n",
        "else:\n",
        "  print(\"You are not allowed to vote\")"
      ],
      "metadata": {
        "colab": {
          "base_uri": "https://localhost:8080/"
        },
        "id": "-b7hWIsD0Rtc",
        "outputId": "22930269-406a-41ed-e307-96ef08d6bf83"
      },
      "execution_count": 28,
      "outputs": [
        {
          "output_type": "stream",
          "name": "stdout",
          "text": [
            "Enter your age: 19\n",
            "You can vote now\n"
          ]
        }
      ]
    },
    {
      "cell_type": "code",
      "source": [
        "#Application 2. Write a program that determines if the input number is POSITIVE, NEGATIVE, or ZERO\n",
        "num = input(\"Enter number: \")\n",
        "if int(num) > 0:\n",
        "  print(\"It is POSITIVE!\")\n",
        "elif int(num)<0:\n",
        "  print(\"It is NEGATIVE!\")\n",
        "else:\n",
        "  print(\"It is ZERO!\")"
      ],
      "metadata": {
        "colab": {
          "base_uri": "https://localhost:8080/"
        },
        "id": "jksok-vY1cTc",
        "outputId": "554d0e45-db51-4649-e2e4-ea3958059f7b"
      },
      "execution_count": 29,
      "outputs": [
        {
          "output_type": "stream",
          "name": "stdout",
          "text": [
            "Enter number: 2\n",
            "It is POSITIVE!\n"
          ]
        }
      ]
    },
    {
      "cell_type": "code",
      "source": [
        "#using while loop and break statement,the output is only 3\n",
        "i = 1\n",
        "while i <= 6:\n",
        "    if i == 3:\n",
        "      print(i)\n",
        "      break\n",
        "\n",
        "    i += 1"
      ],
      "metadata": {
        "colab": {
          "base_uri": "https://localhost:8080/"
        },
        "id": "ZrmOXMsM2jQD",
        "outputId": "fef07137-ecce-42ca-fcdb-1118f52d571f"
      },
      "execution_count": 30,
      "outputs": [
        {
          "output_type": "stream",
          "name": "stdout",
          "text": [
            "3\n"
          ]
        }
      ]
    }
  ]
}